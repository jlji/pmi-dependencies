{
 "cells": [
  {
   "cell_type": "code",
   "execution_count": 177,
   "metadata": {},
   "outputs": [],
   "source": [
    "import decode"
   ]
  },
  {
   "cell_type": "code",
   "execution_count": 178,
   "metadata": {},
   "outputs": [],
   "source": [
    "d = decode.DependencyDecoder()"
   ]
  },
  {
   "cell_type": "code",
   "execution_count": 180,
   "metadata": {},
   "outputs": [
    {
     "data": {
      "text/plain": [
       "[(0, -1), (1, 2), (2, 0), (3, 2)]"
      ]
     },
     "execution_count": 180,
     "metadata": {},
     "output_type": "execute_result"
    }
   ],
   "source": [
    "scores=[[0,1,5,2],\n",
    "        [1,0,2,3],\n",
    "        [5,2,0,5],\n",
    "        [2,3,5,0]]\n",
    "\n",
    "heads = d.parse_proj(np.array(scores))\n",
    "[(d,h) for d,h in enumerate(heads)]"
   ]
  },
  {
   "cell_type": "code",
   "execution_count": 31,
   "metadata": {},
   "outputs": [],
   "source": [
    "import torch"
   ]
  },
  {
   "cell_type": "code",
   "execution_count": 38,
   "metadata": {},
   "outputs": [
    {
     "data": {
      "text/plain": [
       "(1,)"
      ]
     },
     "execution_count": 38,
     "metadata": {},
     "output_type": "execute_result"
    }
   ],
   "source": [
    "n = np.array([1])\n",
    "n.shape"
   ]
  },
  {
   "cell_type": "code",
   "execution_count": 39,
   "metadata": {},
   "outputs": [
    {
     "data": {
      "text/plain": [
       "torch.Size([1])"
      ]
     },
     "execution_count": 39,
     "metadata": {},
     "output_type": "execute_result"
    }
   ],
   "source": [
    "t = torch.tensor(n)\n",
    "t.shape"
   ]
  },
  {
   "cell_type": "code",
   "execution_count": 41,
   "metadata": {},
   "outputs": [
    {
     "data": {
      "text/plain": [
       "torch.Size([1])"
      ]
     },
     "execution_count": 41,
     "metadata": {},
     "output_type": "execute_result"
    }
   ],
   "source": [
    "np.transpose(t).shape"
   ]
  },
  {
   "cell_type": "code",
   "execution_count": 51,
   "metadata": {},
   "outputs": [
    {
     "data": {
      "text/plain": [
       "torch.Tensor"
      ]
     },
     "execution_count": 51,
     "metadata": {},
     "output_type": "execute_result"
    }
   ],
   "source": [
    "type(t)"
   ]
  },
  {
   "cell_type": "code",
   "execution_count": 52,
   "metadata": {},
   "outputs": [
    {
     "data": {
      "text/plain": [
       "torch.Size([1])"
      ]
     },
     "execution_count": 52,
     "metadata": {},
     "output_type": "execute_result"
    }
   ],
   "source": [
    "np.shape(t)"
   ]
  },
  {
   "cell_type": "code",
   "execution_count": 96,
   "metadata": {},
   "outputs": [
    {
     "name": "stdout",
     "output_type": "stream",
     "text": [
      "tensor([[0.],\n",
      "        [0.],\n",
      "        [0.]])\n",
      "tensor([[0., 0., 0., 0.]])\n"
     ]
    }
   ],
   "source": [
    "t2 = torch.tensor([[0,1,2],\n",
    "                   [3,0,4],\n",
    "                   [5,6,0]]).float()\n",
    "\n",
    "col_zeros = torch.zeros(t2.shape[0]).reshape(-1, 1)\n",
    "print(col_zeros)\n",
    "t2_paddedcol = torch.cat([col_zeros,t2],dim=1)\n",
    "row_zeros = torch.zeros(t2_paddedcol.shape[1]).reshape(1, -1) \n",
    "print(row_zeros)\n",
    "scores = torch.cat([row_zeros,t2_paddedcol],dim=0)"
   ]
  },
  {
   "cell_type": "code",
   "execution_count": 91,
   "metadata": {},
   "outputs": [
    {
     "data": {
      "text/plain": [
       "tensor([[0., 0., 0., 0.],\n",
       "        [0., 0., 1., 2.],\n",
       "        [0., 3., 0., 4.],\n",
       "        [0., 5., 6., 0.]])"
      ]
     },
     "execution_count": 91,
     "metadata": {},
     "output_type": "execute_result"
    }
   ],
   "source": [
    "scores"
   ]
  },
  {
   "cell_type": "code",
   "execution_count": 86,
   "metadata": {},
   "outputs": [
    {
     "data": {
      "text/plain": [
       "0.0"
      ]
     },
     "execution_count": 86,
     "metadata": {},
     "output_type": "execute_result"
    }
   ],
   "source": [
    "scores[0][0].item()"
   ]
  },
  {
   "cell_type": "code",
   "execution_count": 176,
   "metadata": {},
   "outputs": [
    {
     "name": "stdout",
     "output_type": "stream",
     "text": [
      "tensor([[ 0.4602, -0.8945,  0.2753,  2.3919, -0.7965, -0.8066],\n",
      "        [-0.5698,  0.2740,  1.0275, -0.8074,  1.5856, -0.2507],\n",
      "        [ 0.1661, -1.4607,  1.1228,  0.6725, -0.2336, -0.2454],\n",
      "        [ 0.5129, -0.2115,  0.5313, -0.6744,  0.6948, -0.8970],\n",
      "        [ 2.6742, -1.0484,  0.6787, -0.6254,  1.1461, -0.9277],\n",
      "        [-0.7785,  0.6890, -1.2780, -0.7610,  0.4963, -0.4236]])\n",
      "tensor([ True,  True,  True, False,  True, False])\n"
     ]
    },
    {
     "data": {
      "text/plain": [
       "tensor([[ 0.4602, -0.8945,  0.2753, -0.7965],\n",
       "        [-0.5698,  0.2740,  1.0275,  1.5856],\n",
       "        [ 0.1661, -1.4607,  1.1228, -0.2336],\n",
       "        [ 2.6742, -1.0484,  0.6787,  1.1461]])"
      ]
     },
     "execution_count": 176,
     "metadata": {},
     "output_type": "execute_result"
    }
   ],
   "source": [
    "x = torch.randn(6, 6)\n",
    "print(x)\n",
    "# condition = x < 0.\n",
    "# print(condition)\n",
    "row_cond = condition[0]\n",
    "print(row_cond)\n",
    "x[row_cond, :][:,row_cond]"
   ]
  },
  {
   "cell_type": "code",
   "execution_count": null,
   "metadata": {},
   "outputs": [],
   "source": []
  }
 ],
 "metadata": {
  "kernelspec": {
   "display_name": "Python [conda env:miniproj4] *",
   "language": "python",
   "name": "conda-env-miniproj4-py"
  },
  "language_info": {
   "codemirror_mode": {
    "name": "ipython",
    "version": 3
   },
   "file_extension": ".py",
   "mimetype": "text/x-python",
   "name": "python",
   "nbconvert_exporter": "python",
   "pygments_lexer": "ipython3",
   "version": "3.7.5"
  }
 },
 "nbformat": 4,
 "nbformat_minor": 4
}
